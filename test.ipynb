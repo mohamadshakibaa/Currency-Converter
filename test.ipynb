{
 "cells": [
  {
   "cell_type": "code",
   "execution_count": 48,
   "id": "11317ba1",
   "metadata": {},
   "outputs": [],
   "source": [
    "import requests"
   ]
  },
  {
   "cell_type": "code",
   "execution_count": 54,
   "id": "3dc8d723",
   "metadata": {},
   "outputs": [],
   "source": [
    "def get_exchange_rate(base_currency, target_currency):\n",
    "    url = f\"https://v6.exchangerate-api.com/v6/fcbf69001983b522b05841fc/latest/{base_currency}\"\n",
    "    response = requests.get(url)\n",
    "    return response.json()['conversion_rates'][target_currency]"
   ]
  },
  {
   "cell_type": "code",
   "execution_count": 55,
   "id": "1891fbb2",
   "metadata": {},
   "outputs": [],
   "source": [
    "def convert_currency(amount, exchahge_rate):\n",
    "    return amount * exchahge_rate"
   ]
  },
  {
   "cell_type": "code",
   "execution_count": 56,
   "id": "4b2c8fc0",
   "metadata": {},
   "outputs": [],
   "source": [
    "base_currency = \"USD\"\n",
    "target_currency = \"CAD\"\n",
    "amount = 1"
   ]
  },
  {
   "cell_type": "code",
   "execution_count": 57,
   "id": "c2977c56",
   "metadata": {},
   "outputs": [],
   "source": [
    "exchahge_rate = get_exchange_rate(base_currency, target_currency)"
   ]
  },
  {
   "cell_type": "code",
   "execution_count": 58,
   "id": "494571b4",
   "metadata": {},
   "outputs": [],
   "source": [
    "usd_amount = 100\n",
    "cad_currency = usd_amount * exchahge_rate"
   ]
  },
  {
   "cell_type": "code",
   "execution_count": 59,
   "id": "378403fd",
   "metadata": {},
   "outputs": [
    {
     "data": {
      "text/plain": [
       "140.24"
      ]
     },
     "execution_count": 59,
     "metadata": {},
     "output_type": "execute_result"
    }
   ],
   "source": [
    "cad_currency"
   ]
  },
  {
   "cell_type": "code",
   "execution_count": 11,
   "id": "4711e22a",
   "metadata": {},
   "outputs": [
    {
     "data": {
      "text/plain": [
       "dict_keys(['AED', 'AFN', 'ALL', 'AMD', 'ANG', 'AOA', 'ARS', 'AUD', 'AWG', 'AZN', 'BAM', 'BBD', 'BDT', 'BGN', 'BHD', 'BND', 'BOB', 'BRL', 'BSD', 'BTN', 'BWP', 'BYR', 'BZD', 'CAD', 'CHF', 'CLP', 'CNY', 'COP', 'CRC', 'CZK', 'DKK', 'DOP', 'DZD', 'EGP', 'ETB', 'EUR', 'FJD', 'GBP', 'GEL', 'GHS', 'GMD', 'GTQ', 'GYD', 'HKD', 'HNL', 'HRK', 'HUF', 'IDR', 'ILS', 'INR', 'ISK', 'JEP', 'JMD', 'JOD', 'JPY', 'KES', 'KGS', 'KHR', 'KRW', 'KWD', 'KYD', 'KZT', 'LBP', 'LKR', 'LTL', 'LVL', 'MAD', 'MDL', 'MGA', 'MKD', 'MMK', 'MNT', 'MOP', 'MUR', 'MVR', 'MXN', 'MYR', 'MZN', 'NAD', 'NGN', 'NIO', 'NOK', 'NPR', 'NZD', 'OMR', 'PEN', 'PGK', 'PHP', 'PKR', 'PLN', 'PYG', 'QAR', 'RON', 'RSD', 'RUB', 'RWF', 'SAR', 'SCR', 'SEK', 'SGD', 'STD', 'SYP', 'THB', 'TND', 'TRY', 'TTD', 'TWD', 'TZS', 'UAH', 'UGX', 'USD', 'UYU', 'VEF', 'VND', 'VUV', 'WST', 'XAF', 'XBT', 'XCD', 'XOF', 'XPF', 'ZAR', 'ZMW'])"
      ]
     },
     "execution_count": 11,
     "metadata": {},
     "output_type": "execute_result"
    }
   ],
   "source": [
    "import currencies\n",
    "currencies.MONEY_FORMATS.keys()"
   ]
  },
  {
   "cell_type": "code",
   "execution_count": 8,
   "id": "0a7dbf3a",
   "metadata": {},
   "outputs": [],
   "source": [
    "currencies = [\n",
    "    'AED', 'AFN', 'ALL', 'AMD', 'ANG', 'AOA', 'ARS', 'AUD', 'AWG', 'AZN',\n",
    "    'BAM', 'BBD', 'BDT', 'BGN', 'BHD', 'BND', 'BOB', 'BRL', 'BSD', 'BTN',\n",
    "    'BWP', 'BYR', 'BZD', 'CAD', 'CHF', 'CLP', 'CNY', 'COP', 'CRC', 'CZK',\n",
    "    'DKK', 'DOP', 'DZD', 'EGP', 'ETB', 'EUR', 'FJD', 'GBP', 'GEL', 'GHS',\n",
    "    'GMD', 'GTQ', 'GYD', 'HKD', 'HNL', 'HRK', 'HUF', 'IDR', 'ILS', 'INR',\n",
    "    'ISK', 'JEP', 'JMD', 'JOD', 'JPY', 'KES', 'KGS', 'KHR', 'KRW', 'KWD',\n",
    "    'KYD', 'KZT', 'LBP', 'LKR', 'LTL', 'LVL', 'MAD', 'MDL', 'MGA', 'MKD',\n",
    "    'MMK', 'MNT', 'MOP', 'MUR', 'MVR', 'MXN', 'MYR', 'MZN', 'NAD', 'NGN',\n",
    "    'NIO', 'NOK', 'NPR', 'NZD', 'OMR', 'PEN', 'PGK', 'PHP', 'PKR', 'PLN',\n",
    "    'PYG', 'QAR', 'RON', 'RSD', 'RUB', 'RWF', 'SAR', 'SCR', 'SEK', 'SGD',\n",
    "    'STD', 'SYP', 'THB', 'TND', 'TRY', 'TTD', 'TWD', 'TZS', 'UAH', 'UGX',\n",
    "    'USD', 'UYU', 'VEF', 'VND', 'VUV', 'WST', 'XAF', 'XBT', 'XCD', 'XOF',\n",
    "    'XPF', 'ZAR', 'ZMW'\n",
    "]\n"
   ]
  },
  {
   "cell_type": "code",
   "execution_count": 9,
   "id": "f473ffac",
   "metadata": {},
   "outputs": [
    {
     "data": {
      "text/plain": [
       "110"
      ]
     },
     "execution_count": 9,
     "metadata": {},
     "output_type": "execute_result"
    }
   ],
   "source": [
    "currencies.index(\"USD\")"
   ]
  },
  {
   "cell_type": "code",
   "execution_count": 14,
   "id": "341af470",
   "metadata": {},
   "outputs": [
    {
     "name": "stdout",
     "output_type": "stream",
     "text": [
      "Requirement already satisfied: cachetools in /home/mohamad/miniconda3/envs/tmp/lib/python3.10/site-packages (6.2.0)\n",
      "Note: you may need to restart the kernel to use updated packages.\n"
     ]
    }
   ],
   "source": [
    "%pip install cachetools\n"
   ]
  },
  {
   "cell_type": "code",
   "execution_count": 15,
   "id": "7b5749f5",
   "metadata": {},
   "outputs": [],
   "source": [
    "from cachetools import cached, TTLCache"
   ]
  },
  {
   "cell_type": "code",
   "execution_count": 22,
   "id": "1d6b652c",
   "metadata": {},
   "outputs": [],
   "source": [
    "ttl_cache = TTLCache(maxsize=100, ttl=10)"
   ]
  },
  {
   "cell_type": "code",
   "execution_count": 23,
   "id": "08f97629",
   "metadata": {},
   "outputs": [],
   "source": [
    "import time\n",
    "\n",
    "@cached(ttl_cache)\n",
    "def get_data(key):\n",
    "    time.sleep(2)\n",
    "    return f'data for {key}'"
   ]
  },
  {
   "cell_type": "code",
   "execution_count": 24,
   "id": "54f84035",
   "metadata": {},
   "outputs": [
    {
     "data": {
      "text/plain": [
       "'data for key1'"
      ]
     },
     "execution_count": 24,
     "metadata": {},
     "output_type": "execute_result"
    }
   ],
   "source": [
    "get_data(\"key1\")"
   ]
  },
  {
   "cell_type": "code",
   "execution_count": 25,
   "id": "d16836a3",
   "metadata": {},
   "outputs": [
    {
     "data": {
      "text/plain": [
       "'data for key1'"
      ]
     },
     "execution_count": 25,
     "metadata": {},
     "output_type": "execute_result"
    }
   ],
   "source": [
    "get_data(\"key1\")"
   ]
  }
 ],
 "metadata": {
  "kernelspec": {
   "display_name": "tmp",
   "language": "python",
   "name": "python3"
  },
  "language_info": {
   "codemirror_mode": {
    "name": "ipython",
    "version": 3
   },
   "file_extension": ".py",
   "mimetype": "text/x-python",
   "name": "python",
   "nbconvert_exporter": "python",
   "pygments_lexer": "ipython3",
   "version": "3.10.18"
  }
 },
 "nbformat": 4,
 "nbformat_minor": 5
}
