{
 "cells": [
  {
   "cell_type": "code",
   "execution_count": 48,
   "id": "11317ba1",
   "metadata": {},
   "outputs": [],
   "source": [
    "import requests"
   ]
  },
  {
   "cell_type": "code",
   "execution_count": 54,
   "id": "3dc8d723",
   "metadata": {},
   "outputs": [],
   "source": [
    "def get_exchange_rate(base_currency, target_currency):\n",
    "    url = f\"https://v6.exchangerate-api.com/v6/fcbf69001983b522b05841fc/latest/{base_currency}\"\n",
    "    response = requests.get(url)\n",
    "    return response.json()['conversion_rates'][target_currency]"
   ]
  },
  {
   "cell_type": "code",
   "execution_count": 55,
   "id": "1891fbb2",
   "metadata": {},
   "outputs": [],
   "source": [
    "def convert_currency(amount, exchahge_rate):\n",
    "    return amount * exchahge_rate"
   ]
  },
  {
   "cell_type": "code",
   "execution_count": 56,
   "id": "4b2c8fc0",
   "metadata": {},
   "outputs": [],
   "source": [
    "base_currency = \"USD\"\n",
    "target_currency = \"CAD\"\n",
    "amount = 1"
   ]
  },
  {
   "cell_type": "code",
   "execution_count": 57,
   "id": "c2977c56",
   "metadata": {},
   "outputs": [],
   "source": [
    "exchahge_rate = get_exchange_rate(base_currency, target_currency)"
   ]
  },
  {
   "cell_type": "code",
   "execution_count": 58,
   "id": "494571b4",
   "metadata": {},
   "outputs": [],
   "source": [
    "usd_amount = 100\n",
    "cad_currency = usd_amount * exchahge_rate"
   ]
  },
  {
   "cell_type": "code",
   "execution_count": 59,
   "id": "378403fd",
   "metadata": {},
   "outputs": [
    {
     "data": {
      "text/plain": [
       "140.24"
      ]
     },
     "execution_count": 59,
     "metadata": {},
     "output_type": "execute_result"
    }
   ],
   "source": [
    "cad_currency"
   ]
  }
 ],
 "metadata": {
  "kernelspec": {
   "display_name": "tmp",
   "language": "python",
   "name": "python3"
  },
  "language_info": {
   "codemirror_mode": {
    "name": "ipython",
    "version": 3
   },
   "file_extension": ".py",
   "mimetype": "text/x-python",
   "name": "python",
   "nbconvert_exporter": "python",
   "pygments_lexer": "ipython3",
   "version": "3.10.18"
  }
 },
 "nbformat": 4,
 "nbformat_minor": 5
}
